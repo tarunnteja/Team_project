{
 "cells": [
  {
   "cell_type": "code",
   "execution_count": 21,
   "metadata": {},
   "outputs": [],
   "source": [
    "import pandas as pd\n",
    "import mysql.connector\n",
    "\n",
    "# Load CSV into a DataFrame\n",
    "data = pd.read_csv('C:/Users/asus/Downloads/hr_employee_cleaned.csv')\n",
    "\n",
    "# Establish a connection to the MySQL database\n",
    "conn = mysql.connector.connect(\n",
    "    user = 'root',\n",
    "    host = 'localhost',\n",
    "    password='Anugera@1',\n",
    "    database=\"exltraining\"\n",
    ")\n",
    "\n",
    "cursor = conn.cursor()\n",
    "\n",
    "\n",
    "# Fetch the actual column names from the MySQL table\n",
    "cursor.execute(\"SHOW COLUMNS FROM employeee\")\n",
    "columns = [col[0] for col in cursor.fetchall()]  # Fetch all column names\n",
    "columns_str = ', '.join(columns)\n",
    "placeholders = ', '.join(['%s' for _ in range(len(columns))])\n",
    "\n",
    "# Create SQL query using actual column names\n",
    "sql = f\"INSERT INTO employeee ({columns_str}) VALUES ({placeholders})\"\n",
    "\n",
    "# Insert DataFrame into MySQL table\n",
    "for i, row in data.iterrows():\n",
    "    cursor.execute(sql, tuple(row))\n",
    "\n",
    "\n",
    "conn.commit()\n",
    "cursor.close()\n",
    "conn.close()\n"
   ]
  },
  {
   "cell_type": "code",
   "execution_count": 23,
   "metadata": {},
   "outputs": [
    {
     "name": "stdout",
     "output_type": "stream",
     "text": [
      "Number of rows in the MySQL table: 1379\n",
      "Number of rows in the CSV file: 1379\n"
     ]
    }
   ],
   "source": [
    "conn = mysql.connector.connect(\n",
    "    user = 'root',\n",
    "    host = 'localhost',\n",
    "    password='Anugera@1',\n",
    "    database=\"exltraining\"\n",
    ")\n",
    "\n",
    "cursor = conn.cursor()\n",
    "\n",
    "# Query to check the number of rows in the table\n",
    "cursor.execute(\"SELECT COUNT(*) FROM employeee\")\n",
    "row_count = cursor.fetchone()[0]\n",
    "print(f\"Number of rows in the MySQL table: {row_count}\")\n",
    "\n",
    "# Number of rows in the CSV file\n",
    "print(f\"Number of rows in the CSV file: {len(data)}\")"
   ]
  }
 ],
 "metadata": {
  "kernelspec": {
   "display_name": "base",
   "language": "python",
   "name": "python3"
  },
  "language_info": {
   "codemirror_mode": {
    "name": "ipython",
    "version": 3
   },
   "file_extension": ".py",
   "mimetype": "text/x-python",
   "name": "python",
   "nbconvert_exporter": "python",
   "pygments_lexer": "ipython3",
   "version": "3.12.4"
  }
 },
 "nbformat": 4,
 "nbformat_minor": 2
}
